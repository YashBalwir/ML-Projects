{
 "cells": [
  {
   "cell_type": "markdown",
   "metadata": {},
   "source": [
    "# Character Recognition on MNIST dataset using Tensorflow"
   ]
  },
  {
   "cell_type": "code",
   "execution_count": 1,
   "metadata": {},
   "outputs": [
    {
     "name": "stderr",
     "output_type": "stream",
     "text": [
      "C:\\Users\\Lenovo\\Anaconda3\\lib\\site-packages\\h5py\\__init__.py:36: FutureWarning: Conversion of the second argument of issubdtype from `float` to `np.floating` is deprecated. In future, it will be treated as `np.float64 == np.dtype(float).type`.\n",
      "  from ._conv import register_converters as _register_converters\n"
     ]
    }
   ],
   "source": [
    "import tensorflow as tf"
   ]
  },
  {
   "cell_type": "code",
   "execution_count": 2,
   "metadata": {},
   "outputs": [],
   "source": [
    "from tensorflow.examples.tutorials.mnist import input_datat_data"
   ]
  },
  {
   "cell_type": "code",
   "execution_count": 3,
   "metadata": {},
   "outputs": [
    {
     "name": "stdout",
     "output_type": "stream",
     "text": [
      "WARNING:tensorflow:From <ipython-input-3-274ce6dbe080>:1: read_data_sets (from tensorflow.contrib.learn.python.learn.datasets.mnist) is deprecated and will be removed in a future version.\n",
      "Instructions for updating:\n",
      "Please use alternatives such as official/mnist/dataset.py from tensorflow/models.\n",
      "WARNING:tensorflow:From C:\\Users\\Lenovo\\Anaconda3\\lib\\site-packages\\tensorflow\\contrib\\learn\\python\\learn\\datasets\\mnist.py:260: maybe_download (from tensorflow.contrib.learn.python.learn.datasets.base) is deprecated and will be removed in a future version.\n",
      "Instructions for updating:\n",
      "Please write your own downloading logic.\n",
      "WARNING:tensorflow:From C:\\Users\\Lenovo\\Anaconda3\\lib\\site-packages\\tensorflow\\contrib\\learn\\python\\learn\\datasets\\mnist.py:262: extract_images (from tensorflow.contrib.learn.python.learn.datasets.mnist) is deprecated and will be removed in a future version.\n",
      "Instructions for updating:\n",
      "Please use tf.data to implement this functionality.\n",
      "Extracting MNIST_data/train-images-idx3-ubyte.gz\n",
      "WARNING:tensorflow:From C:\\Users\\Lenovo\\Anaconda3\\lib\\site-packages\\tensorflow\\contrib\\learn\\python\\learn\\datasets\\mnist.py:267: extract_labels (from tensorflow.contrib.learn.python.learn.datasets.mnist) is deprecated and will be removed in a future version.\n",
      "Instructions for updating:\n",
      "Please use tf.data to implement this functionality.\n",
      "Extracting MNIST_data/train-labels-idx1-ubyte.gz\n",
      "WARNING:tensorflow:From C:\\Users\\Lenovo\\Anaconda3\\lib\\site-packages\\tensorflow\\contrib\\learn\\python\\learn\\datasets\\mnist.py:110: dense_to_one_hot (from tensorflow.contrib.learn.python.learn.datasets.mnist) is deprecated and will be removed in a future version.\n",
      "Instructions for updating:\n",
      "Please use tf.one_hot on tensors.\n",
      "Extracting MNIST_data/t10k-images-idx3-ubyte.gz\n",
      "Extracting MNIST_data/t10k-labels-idx1-ubyte.gz\n",
      "WARNING:tensorflow:From C:\\Users\\Lenovo\\Anaconda3\\lib\\site-packages\\tensorflow\\contrib\\learn\\python\\learn\\datasets\\mnist.py:290: DataSet.__init__ (from tensorflow.contrib.learn.python.learn.datasets.mnist) is deprecated and will be removed in a future version.\n",
      "Instructions for updating:\n",
      "Please use alternatives such as official/mnist/dataset.py from tensorflow/models.\n"
     ]
    }
   ],
   "source": [
    "mnist = input_data.read_data_sets('MNIST_data/',one_hot = True)"
   ]
  },
  {
   "cell_type": "markdown",
   "metadata": {},
   "source": [
    "### HELPER Functions "
   ]
  },
  {
   "cell_type": "code",
   "execution_count": 5,
   "metadata": {},
   "outputs": [],
   "source": [
    "# INIT WEIGHTS\n",
    "def init_weights(shape):\n",
    "    init_random_dist = tf.truncated_normal(shape,stddev=0.1)\n",
    "    return  tf.Variable(init_random_dist)"
   ]
  },
  {
   "cell_type": "code",
   "execution_count": 6,
   "metadata": {},
   "outputs": [],
   "source": [
    "# INIT BIAS\n",
    "def init_bias(shape):\n",
    "    init_bias_vals = tf.constant(0.1,shape=shape)\n",
    "    return tf.Variable(init_bias_vals)"
   ]
  },
  {
   "cell_type": "code",
   "execution_count": 7,
   "metadata": {},
   "outputs": [],
   "source": [
    "# CONV2D\n",
    "def conv2d(x,W):\n",
    "    # x --> [batch,Height,Width,Chanells(Grayscale,rgb,etc)] (Just an Input 4D Tensor)\n",
    "    # W --> [filter Height, filter Width,Channels in, channels out] (filter)\n",
    "    \n",
    "    return tf.nn.conv2d(x,W,strides=[1,1,1,1],padding='SAME')"
   ]
  },
  {
   "cell_type": "code",
   "execution_count": 8,
   "metadata": {},
   "outputs": [],
   "source": [
    "# POOLING\n",
    "def max_pool_2by2(x):\n",
    "    # x --> [batch,H,W,C](4D tensor)\n",
    "    return tf.nn.max_pool(x,ksize=[1,2,2,1],strides=[1,2,2,1],padding='SAME')"
   ]
  },
  {
   "cell_type": "code",
   "execution_count": 9,
   "metadata": {},
   "outputs": [],
   "source": [
    "# CONVOLUTIONAL LAYER\n",
    "def convolutional_layer(input_x,shape):\n",
    "    W = init_weights(shape)\n",
    "    b = init_bias([shape[3]])\n",
    "    return tf.nn.relu(conv2d(input_x,W)+b)"
   ]
  },
  {
   "cell_type": "code",
   "execution_count": 10,
   "metadata": {},
   "outputs": [],
   "source": [
    "# NORMAL LAYER (FULLY CONNECTED)\n",
    "def normal_full_layer(input_layer,size):\n",
    "    input_size = int(input_layer.get_shape()[1])\n",
    "    W = init_weights([input_size,size])\n",
    "    b = init_bias([size])\n",
    "    return tf.matmul(input_layer,W) + b"
   ]
  },
  {
   "cell_type": "code",
   "execution_count": 11,
   "metadata": {},
   "outputs": [],
   "source": [
    "# PLACEHOLDERS\n",
    "x = tf.placeholder(tf.float32,shape=[None,784])\n",
    "#784 are the pixels in the data\n",
    "y_true = tf.placeholder(tf.float32,shape=[None,10])\n",
    "# 10 because 0-9 (one_hot encoded)"
   ]
  },
  {
   "cell_type": "markdown",
   "metadata": {},
   "source": [
    "### Layers"
   ]
  },
  {
   "cell_type": "code",
   "execution_count": 12,
   "metadata": {},
   "outputs": [],
   "source": [
    "x_image = tf.reshape(x,[-1,28,28,1])"
   ]
  },
  {
   "cell_type": "code",
   "execution_count": 13,
   "metadata": {},
   "outputs": [],
   "source": [
    "convo_1 = convolutional_layer(x_image,shape=[5,5,1,32])\n",
    "# its computing 32 features for each 5 by 5 patch(1 here is input channel as we are dealing with greyscale)\n",
    "convo_1_pooling = max_pool_2by2(convo_1)"
   ]
  },
  {
   "cell_type": "code",
   "execution_count": 14,
   "metadata": {},
   "outputs": [],
   "source": [
    "convo_2 = convolutional_layer(convo_1_pooling,shape=[5,5,32,64])\n",
    "convo_2_pooling = max_pool_2by2(convo_2)"
   ]
  },
  {
   "cell_type": "code",
   "execution_count": 15,
   "metadata": {},
   "outputs": [],
   "source": [
    "convo_2_flat = tf.reshape(convo_2_pooling,shape=[-1,7*7*64])\n",
    "full_layer_one = tf.nn.relu(normal_full_layer(convo_2_flat,1024))"
   ]
  },
  {
   "cell_type": "code",
   "execution_count": 16,
   "metadata": {},
   "outputs": [],
   "source": [
    "# DROPOUT\n",
    "hold_prob = tf.placeholder(tf.float32)\n",
    "full_one_dropout = tf.nn.dropout(full_layer_one,keep_prob=hold_prob)"
   ]
  },
  {
   "cell_type": "code",
   "execution_count": 17,
   "metadata": {},
   "outputs": [],
   "source": [
    "y_pred = normal_full_layer(full_one_dropout,10)"
   ]
  },
  {
   "cell_type": "code",
   "execution_count": 18,
   "metadata": {},
   "outputs": [
    {
     "name": "stdout",
     "output_type": "stream",
     "text": [
      "WARNING:tensorflow:From <ipython-input-18-d72a19d3c13a>:2: softmax_cross_entropy_with_logits (from tensorflow.python.ops.nn_ops) is deprecated and will be removed in a future version.\n",
      "Instructions for updating:\n",
      "\n",
      "Future major versions of TensorFlow will allow gradients to flow\n",
      "into the labels input on backprop by default.\n",
      "\n",
      "See `tf.nn.softmax_cross_entropy_with_logits_v2`.\n",
      "\n"
     ]
    }
   ],
   "source": [
    "# LOSS FUNCTION\n",
    "cross_entropy = tf.reduce_mean(tf.nn.softmax_cross_entropy_with_logits(labels=y_true,logits=y_pred))"
   ]
  },
  {
   "cell_type": "code",
   "execution_count": 19,
   "metadata": {},
   "outputs": [],
   "source": [
    "# OPTIMIZER\n",
    "optimizer = tf.train.AdamOptimizer(learning_rate=0.001)\n",
    "train = optimizer.minimize(cross_entropy)"
   ]
  },
  {
   "cell_type": "code",
   "execution_count": 20,
   "metadata": {},
   "outputs": [],
   "source": [
    "init = tf.global_variables_initializer()"
   ]
  },
  {
   "cell_type": "code",
   "execution_count": 23,
   "metadata": {},
   "outputs": [
    {
     "name": "stdout",
     "output_type": "stream",
     "text": [
      "ON STEP: 0\n",
      "ACCURACY: \n",
      "0.1009\n",
      "\n",
      "\n",
      "ON STEP: 100\n",
      "ACCURACY: \n",
      "0.9421\n",
      "\n",
      "\n",
      "ON STEP: 200\n",
      "ACCURACY: \n",
      "0.9631\n",
      "\n",
      "\n",
      "ON STEP: 300\n",
      "ACCURACY: \n",
      "0.9674\n",
      "\n",
      "\n",
      "ON STEP: 400\n",
      "ACCURACY: \n",
      "0.9737\n",
      "\n",
      "\n",
      "ON STEP: 500\n",
      "ACCURACY: \n",
      "0.975\n",
      "\n",
      "\n",
      "ON STEP: 600\n",
      "ACCURACY: \n",
      "0.9796\n",
      "\n",
      "\n",
      "ON STEP: 700\n",
      "ACCURACY: \n",
      "0.9799\n",
      "\n",
      "\n",
      "ON STEP: 800\n",
      "ACCURACY: \n",
      "0.981\n",
      "\n",
      "\n",
      "ON STEP: 900\n",
      "ACCURACY: \n",
      "0.9836\n",
      "\n",
      "\n",
      "ON STEP: 1000\n",
      "ACCURACY: \n",
      "0.9839\n",
      "\n",
      "\n",
      "ON STEP: 1100\n",
      "ACCURACY: \n",
      "0.9866\n",
      "\n",
      "\n",
      "ON STEP: 1200\n",
      "ACCURACY: \n",
      "0.9848\n",
      "\n",
      "\n",
      "ON STEP: 1300\n",
      "ACCURACY: \n",
      "0.987\n",
      "\n",
      "\n",
      "ON STEP: 1400\n",
      "ACCURACY: \n",
      "0.9879\n",
      "\n",
      "\n",
      "ON STEP: 1500\n",
      "ACCURACY: \n",
      "0.9887\n",
      "\n",
      "\n",
      "ON STEP: 1600\n",
      "ACCURACY: \n",
      "0.9875\n",
      "\n",
      "\n",
      "ON STEP: 1700\n",
      "ACCURACY: \n",
      "0.9818\n",
      "\n",
      "\n",
      "ON STEP: 1800\n",
      "ACCURACY: \n",
      "0.9867\n",
      "\n",
      "\n",
      "ON STEP: 1900\n",
      "ACCURACY: \n",
      "0.9897\n",
      "\n",
      "\n",
      "ON STEP: 2000\n",
      "ACCURACY: \n",
      "0.9879\n",
      "\n",
      "\n",
      "ON STEP: 2100\n",
      "ACCURACY: \n",
      "0.9843\n",
      "\n",
      "\n",
      "ON STEP: 2200\n",
      "ACCURACY: \n",
      "0.9877\n",
      "\n",
      "\n",
      "ON STEP: 2300\n",
      "ACCURACY: \n",
      "0.9888\n",
      "\n",
      "\n",
      "ON STEP: 2400\n",
      "ACCURACY: \n",
      "0.9856\n",
      "\n",
      "\n",
      "ON STEP: 2500\n",
      "ACCURACY: \n",
      "0.9883\n",
      "\n",
      "\n",
      "ON STEP: 2600\n",
      "ACCURACY: \n",
      "0.9898\n",
      "\n",
      "\n",
      "ON STEP: 2700\n",
      "ACCURACY: \n",
      "0.9886\n",
      "\n",
      "\n",
      "ON STEP: 2800\n",
      "ACCURACY: \n",
      "0.9862\n",
      "\n",
      "\n",
      "ON STEP: 2900\n",
      "ACCURACY: \n",
      "0.9884\n",
      "\n",
      "\n",
      "ON STEP: 3000\n",
      "ACCURACY: \n",
      "0.989\n",
      "\n",
      "\n",
      "ON STEP: 3100\n",
      "ACCURACY: \n",
      "0.9888\n",
      "\n",
      "\n",
      "ON STEP: 3200\n",
      "ACCURACY: \n",
      "0.9887\n",
      "\n",
      "\n",
      "ON STEP: 3300\n",
      "ACCURACY: \n",
      "0.9864\n",
      "\n",
      "\n",
      "ON STEP: 3400\n",
      "ACCURACY: \n",
      "0.9896\n",
      "\n",
      "\n",
      "ON STEP: 3500\n",
      "ACCURACY: \n",
      "0.9881\n",
      "\n",
      "\n",
      "ON STEP: 3600\n",
      "ACCURACY: \n",
      "0.9905\n",
      "\n",
      "\n",
      "ON STEP: 3700\n",
      "ACCURACY: \n",
      "0.9888\n",
      "\n",
      "\n",
      "ON STEP: 3800\n",
      "ACCURACY: \n",
      "0.9892\n",
      "\n",
      "\n",
      "ON STEP: 3900\n",
      "ACCURACY: \n",
      "0.9912\n",
      "\n",
      "\n",
      "ON STEP: 4000\n",
      "ACCURACY: \n",
      "0.9903\n",
      "\n",
      "\n",
      "ON STEP: 4100\n",
      "ACCURACY: \n",
      "0.9881\n",
      "\n",
      "\n",
      "ON STEP: 4200\n",
      "ACCURACY: \n",
      "0.9901\n",
      "\n",
      "\n",
      "ON STEP: 4300\n",
      "ACCURACY: \n",
      "0.9904\n",
      "\n",
      "\n",
      "ON STEP: 4400\n",
      "ACCURACY: \n",
      "0.99\n",
      "\n",
      "\n",
      "ON STEP: 4500\n",
      "ACCURACY: \n",
      "0.9903\n",
      "\n",
      "\n",
      "ON STEP: 4600\n",
      "ACCURACY: \n",
      "0.9882\n",
      "\n",
      "\n",
      "ON STEP: 4700\n",
      "ACCURACY: \n",
      "0.9866\n",
      "\n",
      "\n",
      "ON STEP: 4800\n",
      "ACCURACY: \n",
      "0.9914\n",
      "\n",
      "\n",
      "ON STEP: 4900\n",
      "ACCURACY: \n",
      "0.9892\n",
      "\n",
      "\n"
     ]
    }
   ],
   "source": [
    "steps = 5000\n",
    "\n",
    "with tf.Session() as sess:\n",
    "    \n",
    "    sess.run(init)\n",
    "    \n",
    "    for i in range(steps):\n",
    "        \n",
    "        batch_x , batch_y = mnist.train.next_batch(50)\n",
    "        \n",
    "        sess.run(train,feed_dict={x:batch_x,y_true:batch_y,hold_prob:0.5})\n",
    "        \n",
    "        if i%100 == 0:\n",
    "            \n",
    "            print('ON STEP: {}'.format(i))\n",
    "            print('ACCURACY: ')\n",
    "            \n",
    "            matches = tf.equal(tf.argmax(y_pred,1),tf.argmax(y_true,1))\n",
    "            \n",
    "            acc = tf.reduce_mean(tf.cast(matches,tf.float32))\n",
    "            \n",
    "            print(sess.run(acc,feed_dict={x:mnist.test.images,y_true:mnist.test.labels,hold_prob:1.0}))\n",
    "            print('\\n')\n",
    "        "
   ]
  },
  {
   "cell_type": "code",
   "execution_count": null,
   "metadata": {},
   "outputs": [],
   "source": []
  }
 ],
 "metadata": {
  "kernelspec": {
   "display_name": "Python 3",
   "language": "python",
   "name": "python3"
  },
  "language_info": {
   "codemirror_mode": {
    "name": "ipython",
    "version": 3
   },
   "file_extension": ".py",
   "mimetype": "text/x-python",
   "name": "python",
   "nbconvert_exporter": "python",
   "pygments_lexer": "ipython3",
   "version": "3.7.1"
  }
 },
 "nbformat": 4,
 "nbformat_minor": 2
}
